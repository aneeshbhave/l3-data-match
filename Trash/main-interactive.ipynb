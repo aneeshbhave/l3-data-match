{
 "cells": [
  {
   "cell_type": "markdown",
   "metadata": {},
   "source": [
    "**Code Explanation**  \n",
    "The code below converts every string passed to it into a pattern used for human intellegence like pattern recognition and matching.\n",
    "\n",
    "**`get_pat()`**  \n",
    "The get_pat function takes a string and an optional padding string. It returns a pattern consisting of characters - `ALPHABET, NUMERICAL, SPECIAL, SPACE` defined in patterns.py. The padding input will pad the string with itself before returning ; for example `AAA` padded with `BBB` is `BBBAAABBB`\n",
    "\n",
    "\n",
    "**What do the characters mean?**  \n",
    "- **A** is an alphabet  \n",
    "- **N** is a numerical character  \n",
    "- **W** is a whitespace character  \n",
    "- **S** is a special character  \n",
    "\n",
    "**Tips for playing around with the code below -**  \n",
    "1) Change the `PADCHAR` string to change the padding for result pattern string. This is useful if one needs to find patterns with spaces in front of and behind the pattern.\n",
    "2) Add or change elements in the `patterns` dictionary (hashmap) to get patterns for your custom text\n",
    "3) Change the fstring (`f\"\"`) being printed to change formatting of the output\n"
   ]
  },
  {
   "cell_type": "code",
   "execution_count": 13,
   "metadata": {},
   "outputs": [
    {
     "name": "stdout",
     "output_type": "stream",
     "text": [
      "Email   : aneesh1701@gmail.com --> WAAAAAANNNNSAAAAASAAAW\n",
      "Email2  : aneesh.bhave@xenlabs.com --> WAAAAAASAAAAASAAAAAAASAAAW\n",
      "Number  : 9146196969 --> WNNNNNNNNNNW\n",
      "Number2 : +91 914 619 6969 --> WSNNWNNNWNNNWNNNNW\n",
      "Number3 : +91 914-619-(6969) --> WSNNWNNNSNNNSSNNNNSW\n",
      "Adhaar  : 6622-2350-9284 --> WNNNNSNNNNSNNNNW\n",
      "Adhaar2 : 662223509284 --> WNNNNNNNNNNNNW\n"
     ]
    }
   ],
   "source": [
    "from patterns import get_pat, SPACE\n",
    "\n",
    "PADCHAR :str = SPACE\n",
    "\n",
    "patterns = {\n",
    "    \"Email   \": \"aneesh1701@gmail.com\",\n",
    "    \"Email2  \": \"aneesh.bhave@xenlabs.com\",\n",
    "    \"Number  \": \"9146196969\",\n",
    "    \"Number2 \": \"+91 914 619 6969\",\n",
    "    \"Number3 \": \"+91 914-619-(6969)\",\n",
    "    \"Adhaar  \": \"6622-2350-9284\",\n",
    "    \"Adhaar2 \": \"662223509284\"\n",
    "}\n",
    "\n",
    "for key, val in patterns.items():\n",
    "    print(f\"{key}: {val} --> {get_pat(val, pad=PADCHAR)}\")"
   ]
  },
  {
   "cell_type": "markdown",
   "metadata": {},
   "source": [
    "**Code Explanation**  \n",
    "The code below uses the `get_pat` function and allows you to find patterns in a file  \n",
    "\n",
    "**`find_pat_file()`**  \n",
    "The find_pat_file takes inputs inp_path a string and two optional inputs - out_path and unique. inp_file is the file being read from, each line is treated as an input to the `get_pat()` function. The unique boolean will remove all duplicates from the resulting list of patterns.\n",
    "If out_path is not provided, the output will be shown via STDOUT instead of being written to the path provided.\n",
    "\n",
    "**Tips for playing around with the code below -**  \n",
    "\n",
    "**DEMO 1**  \n",
    "1) `FILEPATH` string is the path to the file being read.\n",
    "2) `UNIQUE` filters out repeating patterns / duplicates.  \n",
    "\n",
    "**DEMO 2**  \n",
    "1) ...DEMO 1\n",
    "2) `OUTFILE` string writes to file instead of STDOUT"
   ]
  },
  {
   "cell_type": "code",
   "execution_count": 10,
   "metadata": {},
   "outputs": [],
   "source": [
    "#DEMO 1\n",
    "\n",
    "from patterns import find_pat_file\n",
    "\n",
    "FILEPATH :str = \"./greetings.txt\"\n",
    "UNIQUE :bool = True\n",
    "\n",
    "find_pat_file(FILEPATH, unique=UNIQUE)"
   ]
  },
  {
   "cell_type": "code",
   "execution_count": 12,
   "metadata": {},
   "outputs": [],
   "source": [
    "#DEMO 2\n",
    "\n",
    "from patterns import find_pat_file\n",
    "\n",
    "FILEPATH :str = \"./greetings.txt\"\n",
    "OUTFILE :str = \"./output.txt\"\n",
    "UNIQUE :bool = True\n",
    "\n",
    "find_pat_file(FILEPATH, out_path=OUTFILE, unique=UNIQUE)"
   ]
  }
 ],
 "metadata": {
  "interpreter": {
   "hash": "e7370f93d1d0cde622a1f8e1c04877d8463912d04d973331ad4851f04de6915a"
  },
  "kernelspec": {
   "display_name": "Python 3.10.4 64-bit",
   "language": "python",
   "name": "python3"
  },
  "language_info": {
   "codemirror_mode": {
    "name": "ipython",
    "version": 3
   },
   "file_extension": ".py",
   "mimetype": "text/x-python",
   "name": "python",
   "nbconvert_exporter": "python",
   "pygments_lexer": "ipython3",
   "version": "3.10.4"
  },
  "orig_nbformat": 4
 },
 "nbformat": 4,
 "nbformat_minor": 2
}
